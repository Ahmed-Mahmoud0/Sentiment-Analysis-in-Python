{
 "cells": [
  {
   "cell_type": "code",
   "execution_count": 1,
   "id": "465f0292",
   "metadata": {
    "_cell_guid": "b1076dfc-b9ad-4769-8c92-a6c4dae69d19",
    "_uuid": "8f2839f25d086af736a60e9eeb907d3b93b6e0e5",
    "execution": {
     "iopub.execute_input": "2022-06-26T18:14:49.544594Z",
     "iopub.status.busy": "2022-06-26T18:14:49.543977Z",
     "iopub.status.idle": "2022-06-26T18:14:49.567400Z",
     "shell.execute_reply": "2022-06-26T18:14:49.566191Z"
    },
    "papermill": {
     "duration": 0.034976,
     "end_time": "2022-06-26T18:14:49.569848",
     "exception": false,
     "start_time": "2022-06-26T18:14:49.534872",
     "status": "completed"
    },
    "tags": []
   },
   "outputs": [
    {
     "name": "stdout",
     "output_type": "stream",
     "text": [
      "/kaggle/input/imdb-dataset-of-50k-movie-reviews/IMDB Dataset.csv\n"
     ]
    }
   ],
   "source": [
    "# This Python 3 environment comes with many helpful analytics libraries installed\n",
    "# It is defined by the kaggle/python Docker image: https://github.com/kaggle/docker-python\n",
    "# For example, here's several helpful packages to load\n",
    "\n",
    "import numpy as np # linear algebra\n",
    "import pandas as pd # data processing, CSV file I/O (e.g. pd.read_csv)\n",
    "\n",
    "# Input data files are available in the read-only \"../input/\" directory\n",
    "# For example, running this (by clicking run or pressing Shift+Enter) will list all files under the input directory\n",
    "\n",
    "import os\n",
    "for dirname, _, filenames in os.walk('/kaggle/input'):\n",
    "    for filename in filenames:\n",
    "        print(os.path.join(dirname, filename))\n",
    "\n",
    "# You can write up to 20GB to the current directory (/kaggle/working/) that gets preserved as output when you create a version using \"Save & Run All\" \n",
    "# You can also write temporary files to /kaggle/temp/, but they won't be saved outside of the current session"
   ]
  },
  {
   "cell_type": "code",
   "execution_count": 2,
   "id": "aa4d4c43",
   "metadata": {
    "execution": {
     "iopub.execute_input": "2022-06-26T18:14:49.583360Z",
     "iopub.status.busy": "2022-06-26T18:14:49.582843Z",
     "iopub.status.idle": "2022-06-26T18:14:51.129505Z",
     "shell.execute_reply": "2022-06-26T18:14:51.128115Z"
    },
    "papermill": {
     "duration": 1.556054,
     "end_time": "2022-06-26T18:14:51.131845",
     "exception": false,
     "start_time": "2022-06-26T18:14:49.575791",
     "status": "completed"
    },
    "tags": []
   },
   "outputs": [
    {
     "name": "stdout",
     "output_type": "stream",
     "text": [
      "(50000, 2)\n"
     ]
    },
    {
     "data": {
      "text/html": [
       "<div>\n",
       "<style scoped>\n",
       "    .dataframe tbody tr th:only-of-type {\n",
       "        vertical-align: middle;\n",
       "    }\n",
       "\n",
       "    .dataframe tbody tr th {\n",
       "        vertical-align: top;\n",
       "    }\n",
       "\n",
       "    .dataframe thead th {\n",
       "        text-align: right;\n",
       "    }\n",
       "</style>\n",
       "<table border=\"1\" class=\"dataframe\">\n",
       "  <thead>\n",
       "    <tr style=\"text-align: right;\">\n",
       "      <th></th>\n",
       "      <th>review</th>\n",
       "      <th>sentiment</th>\n",
       "    </tr>\n",
       "  </thead>\n",
       "  <tbody>\n",
       "    <tr>\n",
       "      <th>0</th>\n",
       "      <td>One of the other reviewers has mentioned that ...</td>\n",
       "      <td>positive</td>\n",
       "    </tr>\n",
       "    <tr>\n",
       "      <th>1</th>\n",
       "      <td>A wonderful little production. &lt;br /&gt;&lt;br /&gt;The...</td>\n",
       "      <td>positive</td>\n",
       "    </tr>\n",
       "    <tr>\n",
       "      <th>2</th>\n",
       "      <td>I thought this was a wonderful way to spend ti...</td>\n",
       "      <td>positive</td>\n",
       "    </tr>\n",
       "    <tr>\n",
       "      <th>3</th>\n",
       "      <td>Basically there's a family where a little boy ...</td>\n",
       "      <td>negative</td>\n",
       "    </tr>\n",
       "    <tr>\n",
       "      <th>4</th>\n",
       "      <td>Petter Mattei's \"Love in the Time of Money\" is...</td>\n",
       "      <td>positive</td>\n",
       "    </tr>\n",
       "  </tbody>\n",
       "</table>\n",
       "</div>"
      ],
      "text/plain": [
       "                                              review sentiment\n",
       "0  One of the other reviewers has mentioned that ...  positive\n",
       "1  A wonderful little production. <br /><br />The...  positive\n",
       "2  I thought this was a wonderful way to spend ti...  positive\n",
       "3  Basically there's a family where a little boy ...  negative\n",
       "4  Petter Mattei's \"Love in the Time of Money\" is...  positive"
      ]
     },
     "execution_count": 2,
     "metadata": {},
     "output_type": "execute_result"
    }
   ],
   "source": [
    "df = pd.read_csv(\"../input/imdb-dataset-of-50k-movie-reviews/IMDB Dataset.csv\")\n",
    "print(df.shape)\n",
    "df.head()"
   ]
  },
  {
   "cell_type": "code",
   "execution_count": 3,
   "id": "ed019b0f",
   "metadata": {
    "execution": {
     "iopub.execute_input": "2022-06-26T18:14:51.145428Z",
     "iopub.status.busy": "2022-06-26T18:14:51.145035Z",
     "iopub.status.idle": "2022-06-26T18:14:51.353822Z",
     "shell.execute_reply": "2022-06-26T18:14:51.353007Z"
    },
    "papermill": {
     "duration": 0.218162,
     "end_time": "2022-06-26T18:14:51.356132",
     "exception": false,
     "start_time": "2022-06-26T18:14:51.137970",
     "status": "completed"
    },
    "tags": []
   },
   "outputs": [
    {
     "data": {
      "text/plain": [
       "824"
      ]
     },
     "execution_count": 3,
     "metadata": {},
     "output_type": "execute_result"
    }
   ],
   "source": [
    "df.duplicated(keep=False).sum()"
   ]
  },
  {
   "cell_type": "code",
   "execution_count": 4,
   "id": "a96cdfb2",
   "metadata": {
    "execution": {
     "iopub.execute_input": "2022-06-26T18:14:51.370461Z",
     "iopub.status.busy": "2022-06-26T18:14:51.369467Z",
     "iopub.status.idle": "2022-06-26T18:14:51.556407Z",
     "shell.execute_reply": "2022-06-26T18:14:51.555253Z"
    },
    "papermill": {
     "duration": 0.196772,
     "end_time": "2022-06-26T18:14:51.559044",
     "exception": false,
     "start_time": "2022-06-26T18:14:51.362272",
     "status": "completed"
    },
    "tags": []
   },
   "outputs": [],
   "source": [
    "df.drop_duplicates(inplace=True)"
   ]
  },
  {
   "cell_type": "code",
   "execution_count": 5,
   "id": "da7a8580",
   "metadata": {
    "execution": {
     "iopub.execute_input": "2022-06-26T18:14:51.574556Z",
     "iopub.status.busy": "2022-06-26T18:14:51.573517Z",
     "iopub.status.idle": "2022-06-26T18:14:51.580804Z",
     "shell.execute_reply": "2022-06-26T18:14:51.579993Z"
    },
    "papermill": {
     "duration": 0.016999,
     "end_time": "2022-06-26T18:14:51.582790",
     "exception": false,
     "start_time": "2022-06-26T18:14:51.565791",
     "status": "completed"
    },
    "tags": []
   },
   "outputs": [
    {
     "data": {
      "text/plain": [
       "review       object\n",
       "sentiment    object\n",
       "dtype: object"
      ]
     },
     "execution_count": 5,
     "metadata": {},
     "output_type": "execute_result"
    }
   ],
   "source": [
    "df.dtypes"
   ]
  },
  {
   "cell_type": "code",
   "execution_count": 6,
   "id": "5c086722",
   "metadata": {
    "execution": {
     "iopub.execute_input": "2022-06-26T18:14:51.597516Z",
     "iopub.status.busy": "2022-06-26T18:14:51.596954Z",
     "iopub.status.idle": "2022-06-26T18:14:51.613277Z",
     "shell.execute_reply": "2022-06-26T18:14:51.612400Z"
    },
    "papermill": {
     "duration": 0.026171,
     "end_time": "2022-06-26T18:14:51.615395",
     "exception": false,
     "start_time": "2022-06-26T18:14:51.589224",
     "status": "completed"
    },
    "tags": []
   },
   "outputs": [
    {
     "data": {
      "text/plain": [
       "positive    24884\n",
       "negative    24698\n",
       "Name: sentiment, dtype: int64"
      ]
     },
     "execution_count": 6,
     "metadata": {},
     "output_type": "execute_result"
    }
   ],
   "source": [
    "df.sentiment.value_counts()"
   ]
  },
  {
   "cell_type": "code",
   "execution_count": 7,
   "id": "bb1518c0",
   "metadata": {
    "execution": {
     "iopub.execute_input": "2022-06-26T18:14:51.630720Z",
     "iopub.status.busy": "2022-06-26T18:14:51.629780Z",
     "iopub.status.idle": "2022-06-26T18:14:51.687843Z",
     "shell.execute_reply": "2022-06-26T18:14:51.687046Z"
    },
    "papermill": {
     "duration": 0.06807,
     "end_time": "2022-06-26T18:14:51.689977",
     "exception": false,
     "start_time": "2022-06-26T18:14:51.621907",
     "status": "completed"
    },
    "tags": []
   },
   "outputs": [
    {
     "data": {
      "text/plain": [
       "1    24884\n",
       "0    24698\n",
       "Name: sentiment, dtype: int64"
      ]
     },
     "execution_count": 7,
     "metadata": {},
     "output_type": "execute_result"
    }
   ],
   "source": [
    "df.replace({'positive':1, 'negative':0}, inplace=True)\n",
    "df.sentiment.value_counts()"
   ]
  },
  {
   "cell_type": "code",
   "execution_count": 8,
   "id": "a57ef5e9",
   "metadata": {
    "execution": {
     "iopub.execute_input": "2022-06-26T18:14:51.705204Z",
     "iopub.status.busy": "2022-06-26T18:14:51.704553Z",
     "iopub.status.idle": "2022-06-26T18:14:51.711752Z",
     "shell.execute_reply": "2022-06-26T18:14:51.710659Z"
    },
    "papermill": {
     "duration": 0.017433,
     "end_time": "2022-06-26T18:14:51.713951",
     "exception": false,
     "start_time": "2022-06-26T18:14:51.696518",
     "status": "completed"
    },
    "tags": []
   },
   "outputs": [
    {
     "data": {
      "text/plain": [
       "review       object\n",
       "sentiment     int64\n",
       "dtype: object"
      ]
     },
     "execution_count": 8,
     "metadata": {},
     "output_type": "execute_result"
    }
   ],
   "source": [
    "df.dtypes"
   ]
  },
  {
   "cell_type": "code",
   "execution_count": 9,
   "id": "2991943e",
   "metadata": {
    "execution": {
     "iopub.execute_input": "2022-06-26T18:14:51.729053Z",
     "iopub.status.busy": "2022-06-26T18:14:51.728651Z",
     "iopub.status.idle": "2022-06-26T18:14:58.862698Z",
     "shell.execute_reply": "2022-06-26T18:14:58.861317Z"
    },
    "papermill": {
     "duration": 7.144572,
     "end_time": "2022-06-26T18:14:58.865216",
     "exception": false,
     "start_time": "2022-06-26T18:14:51.720644",
     "status": "completed"
    },
    "tags": []
   },
   "outputs": [],
   "source": [
    "from nltk.tokenize import RegexpTokenizer\n",
    "tokenizer = RegexpTokenizer(r'[A-Za-z]+')\n",
    "df['text_tokenized'] = df.review.map(lambda review: tokenizer.tokenize(review))"
   ]
  },
  {
   "cell_type": "code",
   "execution_count": 10,
   "id": "53d2858c",
   "metadata": {
    "execution": {
     "iopub.execute_input": "2022-06-26T18:14:58.880923Z",
     "iopub.status.busy": "2022-06-26T18:14:58.880546Z",
     "iopub.status.idle": "2022-06-26T18:14:58.897528Z",
     "shell.execute_reply": "2022-06-26T18:14:58.896243Z"
    },
    "papermill": {
     "duration": 0.027655,
     "end_time": "2022-06-26T18:14:58.899774",
     "exception": false,
     "start_time": "2022-06-26T18:14:58.872119",
     "status": "completed"
    },
    "tags": []
   },
   "outputs": [
    {
     "data": {
      "text/html": [
       "<div>\n",
       "<style scoped>\n",
       "    .dataframe tbody tr th:only-of-type {\n",
       "        vertical-align: middle;\n",
       "    }\n",
       "\n",
       "    .dataframe tbody tr th {\n",
       "        vertical-align: top;\n",
       "    }\n",
       "\n",
       "    .dataframe thead th {\n",
       "        text-align: right;\n",
       "    }\n",
       "</style>\n",
       "<table border=\"1\" class=\"dataframe\">\n",
       "  <thead>\n",
       "    <tr style=\"text-align: right;\">\n",
       "      <th></th>\n",
       "      <th>review</th>\n",
       "      <th>sentiment</th>\n",
       "      <th>text_tokenized</th>\n",
       "    </tr>\n",
       "  </thead>\n",
       "  <tbody>\n",
       "    <tr>\n",
       "      <th>0</th>\n",
       "      <td>One of the other reviewers has mentioned that ...</td>\n",
       "      <td>1</td>\n",
       "      <td>[One, of, the, other, reviewers, has, mentione...</td>\n",
       "    </tr>\n",
       "    <tr>\n",
       "      <th>1</th>\n",
       "      <td>A wonderful little production. &lt;br /&gt;&lt;br /&gt;The...</td>\n",
       "      <td>1</td>\n",
       "      <td>[A, wonderful, little, production, br, br, The...</td>\n",
       "    </tr>\n",
       "    <tr>\n",
       "      <th>2</th>\n",
       "      <td>I thought this was a wonderful way to spend ti...</td>\n",
       "      <td>1</td>\n",
       "      <td>[I, thought, this, was, a, wonderful, way, to,...</td>\n",
       "    </tr>\n",
       "    <tr>\n",
       "      <th>3</th>\n",
       "      <td>Basically there's a family where a little boy ...</td>\n",
       "      <td>0</td>\n",
       "      <td>[Basically, there, s, a, family, where, a, lit...</td>\n",
       "    </tr>\n",
       "    <tr>\n",
       "      <th>4</th>\n",
       "      <td>Petter Mattei's \"Love in the Time of Money\" is...</td>\n",
       "      <td>1</td>\n",
       "      <td>[Petter, Mattei, s, Love, in, the, Time, of, M...</td>\n",
       "    </tr>\n",
       "  </tbody>\n",
       "</table>\n",
       "</div>"
      ],
      "text/plain": [
       "                                              review  sentiment  \\\n",
       "0  One of the other reviewers has mentioned that ...          1   \n",
       "1  A wonderful little production. <br /><br />The...          1   \n",
       "2  I thought this was a wonderful way to spend ti...          1   \n",
       "3  Basically there's a family where a little boy ...          0   \n",
       "4  Petter Mattei's \"Love in the Time of Money\" is...          1   \n",
       "\n",
       "                                      text_tokenized  \n",
       "0  [One, of, the, other, reviewers, has, mentione...  \n",
       "1  [A, wonderful, little, production, br, br, The...  \n",
       "2  [I, thought, this, was, a, wonderful, way, to,...  \n",
       "3  [Basically, there, s, a, family, where, a, lit...  \n",
       "4  [Petter, Mattei, s, Love, in, the, Time, of, M...  "
      ]
     },
     "execution_count": 10,
     "metadata": {},
     "output_type": "execute_result"
    }
   ],
   "source": [
    "df.head()"
   ]
  },
  {
   "cell_type": "code",
   "execution_count": 11,
   "id": "51e5795e",
   "metadata": {
    "execution": {
     "iopub.execute_input": "2022-06-26T18:14:58.915790Z",
     "iopub.status.busy": "2022-06-26T18:14:58.915386Z",
     "iopub.status.idle": "2022-06-26T18:17:38.438967Z",
     "shell.execute_reply": "2022-06-26T18:17:38.437837Z"
    },
    "papermill": {
     "duration": 159.535317,
     "end_time": "2022-06-26T18:17:38.441985",
     "exception": false,
     "start_time": "2022-06-26T18:14:58.906668",
     "status": "completed"
    },
    "tags": []
   },
   "outputs": [],
   "source": [
    "from nltk.stem.snowball import SnowballStemmer\n",
    "stemmer = SnowballStemmer(\"english\")\n",
    "df['text_stemmed'] = df['text_tokenized'].map(lambda x: [stemmer.stem(word) for word in x])"
   ]
  },
  {
   "cell_type": "code",
   "execution_count": 12,
   "id": "cd063f4c",
   "metadata": {
    "execution": {
     "iopub.execute_input": "2022-06-26T18:17:38.457944Z",
     "iopub.status.busy": "2022-06-26T18:17:38.457556Z",
     "iopub.status.idle": "2022-06-26T18:17:38.480203Z",
     "shell.execute_reply": "2022-06-26T18:17:38.478985Z"
    },
    "papermill": {
     "duration": 0.033061,
     "end_time": "2022-06-26T18:17:38.482488",
     "exception": false,
     "start_time": "2022-06-26T18:17:38.449427",
     "status": "completed"
    },
    "tags": []
   },
   "outputs": [
    {
     "data": {
      "text/html": [
       "<div>\n",
       "<style scoped>\n",
       "    .dataframe tbody tr th:only-of-type {\n",
       "        vertical-align: middle;\n",
       "    }\n",
       "\n",
       "    .dataframe tbody tr th {\n",
       "        vertical-align: top;\n",
       "    }\n",
       "\n",
       "    .dataframe thead th {\n",
       "        text-align: right;\n",
       "    }\n",
       "</style>\n",
       "<table border=\"1\" class=\"dataframe\">\n",
       "  <thead>\n",
       "    <tr style=\"text-align: right;\">\n",
       "      <th></th>\n",
       "      <th>review</th>\n",
       "      <th>sentiment</th>\n",
       "      <th>text_tokenized</th>\n",
       "      <th>text_stemmed</th>\n",
       "    </tr>\n",
       "  </thead>\n",
       "  <tbody>\n",
       "    <tr>\n",
       "      <th>0</th>\n",
       "      <td>One of the other reviewers has mentioned that ...</td>\n",
       "      <td>1</td>\n",
       "      <td>[One, of, the, other, reviewers, has, mentione...</td>\n",
       "      <td>[one, of, the, other, review, has, mention, th...</td>\n",
       "    </tr>\n",
       "    <tr>\n",
       "      <th>1</th>\n",
       "      <td>A wonderful little production. &lt;br /&gt;&lt;br /&gt;The...</td>\n",
       "      <td>1</td>\n",
       "      <td>[A, wonderful, little, production, br, br, The...</td>\n",
       "      <td>[a, wonder, littl, product, br, br, the, film,...</td>\n",
       "    </tr>\n",
       "    <tr>\n",
       "      <th>2</th>\n",
       "      <td>I thought this was a wonderful way to spend ti...</td>\n",
       "      <td>1</td>\n",
       "      <td>[I, thought, this, was, a, wonderful, way, to,...</td>\n",
       "      <td>[i, thought, this, was, a, wonder, way, to, sp...</td>\n",
       "    </tr>\n",
       "    <tr>\n",
       "      <th>3</th>\n",
       "      <td>Basically there's a family where a little boy ...</td>\n",
       "      <td>0</td>\n",
       "      <td>[Basically, there, s, a, family, where, a, lit...</td>\n",
       "      <td>[basic, there, s, a, famili, where, a, littl, ...</td>\n",
       "    </tr>\n",
       "    <tr>\n",
       "      <th>4</th>\n",
       "      <td>Petter Mattei's \"Love in the Time of Money\" is...</td>\n",
       "      <td>1</td>\n",
       "      <td>[Petter, Mattei, s, Love, in, the, Time, of, M...</td>\n",
       "      <td>[petter, mattei, s, love, in, the, time, of, m...</td>\n",
       "    </tr>\n",
       "  </tbody>\n",
       "</table>\n",
       "</div>"
      ],
      "text/plain": [
       "                                              review  sentiment  \\\n",
       "0  One of the other reviewers has mentioned that ...          1   \n",
       "1  A wonderful little production. <br /><br />The...          1   \n",
       "2  I thought this was a wonderful way to spend ti...          1   \n",
       "3  Basically there's a family where a little boy ...          0   \n",
       "4  Petter Mattei's \"Love in the Time of Money\" is...          1   \n",
       "\n",
       "                                      text_tokenized  \\\n",
       "0  [One, of, the, other, reviewers, has, mentione...   \n",
       "1  [A, wonderful, little, production, br, br, The...   \n",
       "2  [I, thought, this, was, a, wonderful, way, to,...   \n",
       "3  [Basically, there, s, a, family, where, a, lit...   \n",
       "4  [Petter, Mattei, s, Love, in, the, Time, of, M...   \n",
       "\n",
       "                                        text_stemmed  \n",
       "0  [one, of, the, other, review, has, mention, th...  \n",
       "1  [a, wonder, littl, product, br, br, the, film,...  \n",
       "2  [i, thought, this, was, a, wonder, way, to, sp...  \n",
       "3  [basic, there, s, a, famili, where, a, littl, ...  \n",
       "4  [petter, mattei, s, love, in, the, time, of, m...  "
      ]
     },
     "execution_count": 12,
     "metadata": {},
     "output_type": "execute_result"
    }
   ],
   "source": [
    "df.head()"
   ]
  },
  {
   "cell_type": "code",
   "execution_count": 13,
   "id": "692fada7",
   "metadata": {
    "execution": {
     "iopub.execute_input": "2022-06-26T18:17:38.499518Z",
     "iopub.status.busy": "2022-06-26T18:17:38.499125Z",
     "iopub.status.idle": "2022-06-26T18:17:39.043912Z",
     "shell.execute_reply": "2022-06-26T18:17:39.042847Z"
    },
    "papermill": {
     "duration": 0.557067,
     "end_time": "2022-06-26T18:17:39.046688",
     "exception": false,
     "start_time": "2022-06-26T18:17:38.489621",
     "status": "completed"
    },
    "tags": []
   },
   "outputs": [],
   "source": [
    "df['text_sent'] = df['text_stemmed'].map(lambda l: ' '.join(l))"
   ]
  },
  {
   "cell_type": "code",
   "execution_count": 14,
   "id": "5750863f",
   "metadata": {
    "execution": {
     "iopub.execute_input": "2022-06-26T18:17:39.062883Z",
     "iopub.status.busy": "2022-06-26T18:17:39.062462Z",
     "iopub.status.idle": "2022-06-26T18:17:39.089351Z",
     "shell.execute_reply": "2022-06-26T18:17:39.088311Z"
    },
    "papermill": {
     "duration": 0.037484,
     "end_time": "2022-06-26T18:17:39.091574",
     "exception": false,
     "start_time": "2022-06-26T18:17:39.054090",
     "status": "completed"
    },
    "tags": []
   },
   "outputs": [
    {
     "data": {
      "text/html": [
       "<div>\n",
       "<style scoped>\n",
       "    .dataframe tbody tr th:only-of-type {\n",
       "        vertical-align: middle;\n",
       "    }\n",
       "\n",
       "    .dataframe tbody tr th {\n",
       "        vertical-align: top;\n",
       "    }\n",
       "\n",
       "    .dataframe thead th {\n",
       "        text-align: right;\n",
       "    }\n",
       "</style>\n",
       "<table border=\"1\" class=\"dataframe\">\n",
       "  <thead>\n",
       "    <tr style=\"text-align: right;\">\n",
       "      <th></th>\n",
       "      <th>review</th>\n",
       "      <th>sentiment</th>\n",
       "      <th>text_tokenized</th>\n",
       "      <th>text_stemmed</th>\n",
       "      <th>text_sent</th>\n",
       "    </tr>\n",
       "  </thead>\n",
       "  <tbody>\n",
       "    <tr>\n",
       "      <th>0</th>\n",
       "      <td>One of the other reviewers has mentioned that ...</td>\n",
       "      <td>1</td>\n",
       "      <td>[One, of, the, other, reviewers, has, mentione...</td>\n",
       "      <td>[one, of, the, other, review, has, mention, th...</td>\n",
       "      <td>one of the other review has mention that after...</td>\n",
       "    </tr>\n",
       "    <tr>\n",
       "      <th>1</th>\n",
       "      <td>A wonderful little production. &lt;br /&gt;&lt;br /&gt;The...</td>\n",
       "      <td>1</td>\n",
       "      <td>[A, wonderful, little, production, br, br, The...</td>\n",
       "      <td>[a, wonder, littl, product, br, br, the, film,...</td>\n",
       "      <td>a wonder littl product br br the film techniqu...</td>\n",
       "    </tr>\n",
       "    <tr>\n",
       "      <th>2</th>\n",
       "      <td>I thought this was a wonderful way to spend ti...</td>\n",
       "      <td>1</td>\n",
       "      <td>[I, thought, this, was, a, wonderful, way, to,...</td>\n",
       "      <td>[i, thought, this, was, a, wonder, way, to, sp...</td>\n",
       "      <td>i thought this was a wonder way to spend time ...</td>\n",
       "    </tr>\n",
       "    <tr>\n",
       "      <th>3</th>\n",
       "      <td>Basically there's a family where a little boy ...</td>\n",
       "      <td>0</td>\n",
       "      <td>[Basically, there, s, a, family, where, a, lit...</td>\n",
       "      <td>[basic, there, s, a, famili, where, a, littl, ...</td>\n",
       "      <td>basic there s a famili where a littl boy jake ...</td>\n",
       "    </tr>\n",
       "    <tr>\n",
       "      <th>4</th>\n",
       "      <td>Petter Mattei's \"Love in the Time of Money\" is...</td>\n",
       "      <td>1</td>\n",
       "      <td>[Petter, Mattei, s, Love, in, the, Time, of, M...</td>\n",
       "      <td>[petter, mattei, s, love, in, the, time, of, m...</td>\n",
       "      <td>petter mattei s love in the time of money is a...</td>\n",
       "    </tr>\n",
       "  </tbody>\n",
       "</table>\n",
       "</div>"
      ],
      "text/plain": [
       "                                              review  sentiment  \\\n",
       "0  One of the other reviewers has mentioned that ...          1   \n",
       "1  A wonderful little production. <br /><br />The...          1   \n",
       "2  I thought this was a wonderful way to spend ti...          1   \n",
       "3  Basically there's a family where a little boy ...          0   \n",
       "4  Petter Mattei's \"Love in the Time of Money\" is...          1   \n",
       "\n",
       "                                      text_tokenized  \\\n",
       "0  [One, of, the, other, reviewers, has, mentione...   \n",
       "1  [A, wonderful, little, production, br, br, The...   \n",
       "2  [I, thought, this, was, a, wonderful, way, to,...   \n",
       "3  [Basically, there, s, a, family, where, a, lit...   \n",
       "4  [Petter, Mattei, s, Love, in, the, Time, of, M...   \n",
       "\n",
       "                                        text_stemmed  \\\n",
       "0  [one, of, the, other, review, has, mention, th...   \n",
       "1  [a, wonder, littl, product, br, br, the, film,...   \n",
       "2  [i, thought, this, was, a, wonder, way, to, sp...   \n",
       "3  [basic, there, s, a, famili, where, a, littl, ...   \n",
       "4  [petter, mattei, s, love, in, the, time, of, m...   \n",
       "\n",
       "                                           text_sent  \n",
       "0  one of the other review has mention that after...  \n",
       "1  a wonder littl product br br the film techniqu...  \n",
       "2  i thought this was a wonder way to spend time ...  \n",
       "3  basic there s a famili where a littl boy jake ...  \n",
       "4  petter mattei s love in the time of money is a...  "
      ]
     },
     "execution_count": 14,
     "metadata": {},
     "output_type": "execute_result"
    }
   ],
   "source": [
    "df.head()"
   ]
  },
  {
   "cell_type": "code",
   "execution_count": 15,
   "id": "ab8e101d",
   "metadata": {
    "execution": {
     "iopub.execute_input": "2022-06-26T18:17:39.107817Z",
     "iopub.status.busy": "2022-06-26T18:17:39.107445Z",
     "iopub.status.idle": "2022-06-26T18:17:51.457749Z",
     "shell.execute_reply": "2022-06-26T18:17:51.456746Z"
    },
    "papermill": {
     "duration": 12.361464,
     "end_time": "2022-06-26T18:17:51.460337",
     "exception": false,
     "start_time": "2022-06-26T18:17:39.098873",
     "status": "completed"
    },
    "tags": []
   },
   "outputs": [],
   "source": [
    "from sklearn.feature_extraction.text import CountVectorizer\n",
    "cv = CountVectorizer()\n",
    "features = cv.fit_transform(df.text_sent)"
   ]
  },
  {
   "cell_type": "code",
   "execution_count": 16,
   "id": "abd82e84",
   "metadata": {
    "execution": {
     "iopub.execute_input": "2022-06-26T18:17:51.476280Z",
     "iopub.status.busy": "2022-06-26T18:17:51.475881Z",
     "iopub.status.idle": "2022-06-26T18:17:51.517093Z",
     "shell.execute_reply": "2022-06-26T18:17:51.516073Z"
    },
    "papermill": {
     "duration": 0.051914,
     "end_time": "2022-06-26T18:17:51.519529",
     "exception": false,
     "start_time": "2022-06-26T18:17:51.467615",
     "status": "completed"
    },
    "tags": []
   },
   "outputs": [],
   "source": [
    "from sklearn.model_selection import train_test_split\n",
    "Xtrain, Xtest, ytrain, ytest = train_test_split(features, df.sentiment, test_size=0.2, random_state=0, shuffle=True)"
   ]
  },
  {
   "cell_type": "code",
   "execution_count": 17,
   "id": "7f0dded8",
   "metadata": {
    "execution": {
     "iopub.execute_input": "2022-06-26T18:17:51.535600Z",
     "iopub.status.busy": "2022-06-26T18:17:51.535233Z",
     "iopub.status.idle": "2022-06-26T18:18:01.842062Z",
     "shell.execute_reply": "2022-06-26T18:18:01.840112Z"
    },
    "papermill": {
     "duration": 10.318492,
     "end_time": "2022-06-26T18:18:01.845238",
     "exception": false,
     "start_time": "2022-06-26T18:17:51.526746",
     "status": "completed"
    },
    "tags": []
   },
   "outputs": [
    {
     "name": "stderr",
     "output_type": "stream",
     "text": [
      "/opt/conda/lib/python3.7/site-packages/sklearn/linear_model/_logistic.py:818: ConvergenceWarning: lbfgs failed to converge (status=1):\n",
      "STOP: TOTAL NO. of ITERATIONS REACHED LIMIT.\n",
      "\n",
      "Increase the number of iterations (max_iter) or scale the data as shown in:\n",
      "    https://scikit-learn.org/stable/modules/preprocessing.html\n",
      "Please also refer to the documentation for alternative solver options:\n",
      "    https://scikit-learn.org/stable/modules/linear_model.html#logistic-regression\n",
      "  extra_warning_msg=_LOGISTIC_SOLVER_CONVERGENCE_MSG,\n"
     ]
    },
    {
     "data": {
      "text/plain": [
       "LogisticRegression()"
      ]
     },
     "execution_count": 17,
     "metadata": {},
     "output_type": "execute_result"
    }
   ],
   "source": [
    "from sklearn.linear_model import LogisticRegression\n",
    "log_reg = LogisticRegression()\n",
    "log_reg.fit(Xtrain, ytrain)"
   ]
  },
  {
   "cell_type": "code",
   "execution_count": 18,
   "id": "46085ac5",
   "metadata": {
    "execution": {
     "iopub.execute_input": "2022-06-26T18:18:01.913451Z",
     "iopub.status.busy": "2022-06-26T18:18:01.912831Z",
     "iopub.status.idle": "2022-06-26T18:18:01.930100Z",
     "shell.execute_reply": "2022-06-26T18:18:01.928696Z"
    },
    "papermill": {
     "duration": 0.065134,
     "end_time": "2022-06-26T18:18:01.933595",
     "exception": false,
     "start_time": "2022-06-26T18:18:01.868461",
     "status": "completed"
    },
    "tags": []
   },
   "outputs": [],
   "source": [
    "ypred = log_reg.predict(Xtest)"
   ]
  },
  {
   "cell_type": "code",
   "execution_count": 19,
   "id": "bd64b7eb",
   "metadata": {
    "execution": {
     "iopub.execute_input": "2022-06-26T18:18:01.954794Z",
     "iopub.status.busy": "2022-06-26T18:18:01.954399Z",
     "iopub.status.idle": "2022-06-26T18:18:01.963248Z",
     "shell.execute_reply": "2022-06-26T18:18:01.962170Z"
    },
    "papermill": {
     "duration": 0.020588,
     "end_time": "2022-06-26T18:18:01.966180",
     "exception": false,
     "start_time": "2022-06-26T18:18:01.945592",
     "status": "completed"
    },
    "tags": []
   },
   "outputs": [
    {
     "data": {
      "text/plain": [
       "0.8788948270646365"
      ]
     },
     "execution_count": 19,
     "metadata": {},
     "output_type": "execute_result"
    }
   ],
   "source": [
    "from sklearn.metrics import accuracy_score\n",
    "accuracy_score(ytest, ypred)"
   ]
  }
 ],
 "metadata": {
  "kernelspec": {
   "display_name": "Python 3",
   "language": "python",
   "name": "python3"
  },
  "language_info": {
   "codemirror_mode": {
    "name": "ipython",
    "version": 3
   },
   "file_extension": ".py",
   "mimetype": "text/x-python",
   "name": "python",
   "nbconvert_exporter": "python",
   "pygments_lexer": "ipython3",
   "version": "3.7.12"
  },
  "papermill": {
   "default_parameters": {},
   "duration": 204.053595,
   "end_time": "2022-06-26T18:18:03.699456",
   "environment_variables": {},
   "exception": null,
   "input_path": "__notebook__.ipynb",
   "output_path": "__notebook__.ipynb",
   "parameters": {},
   "start_time": "2022-06-26T18:14:39.645861",
   "version": "2.3.4"
  }
 },
 "nbformat": 4,
 "nbformat_minor": 5
}
